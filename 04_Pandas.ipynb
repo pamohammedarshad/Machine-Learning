{
 "cells": [
  {
   "cell_type": "markdown",
   "metadata": {},
   "source": [
    "# Pandas"
   ]
  },
  {
   "cell_type": "code",
   "execution_count": 2,
   "metadata": {},
   "outputs": [],
   "source": [
    "import pandas as pd"
   ]
  },
  {
   "cell_type": "code",
   "execution_count": 3,
   "metadata": {},
   "outputs": [],
   "source": [
    "import numpy as np"
   ]
  },
  {
   "cell_type": "code",
   "execution_count": 3,
   "metadata": {},
   "outputs": [],
   "source": [
    "labels=['w','x','y','z']\n",
    "list=[10,20,30,40]\n",
    "array=np.array([10,20,30,40])\n",
    "dict={'w':10,'x':20,'y':30,'z':40}\n"
   ]
  },
  {
   "cell_type": "code",
   "execution_count": 4,
   "metadata": {},
   "outputs": [
    {
     "data": {
      "text/plain": [
       "0    10\n",
       "1    20\n",
       "2    30\n",
       "3    40\n",
       "dtype: int64"
      ]
     },
     "execution_count": 4,
     "metadata": {},
     "output_type": "execute_result"
    }
   ],
   "source": [
    "pd.Series(data=list)"
   ]
  },
  {
   "cell_type": "code",
   "execution_count": 5,
   "metadata": {},
   "outputs": [
    {
     "data": {
      "text/plain": [
       "w    10\n",
       "x    20\n",
       "y    30\n",
       "z    40\n",
       "dtype: int64"
      ]
     },
     "execution_count": 5,
     "metadata": {},
     "output_type": "execute_result"
    }
   ],
   "source": [
    "pd.Series(data=list,index=labels)"
   ]
  },
  {
   "cell_type": "code",
   "execution_count": 6,
   "metadata": {},
   "outputs": [
    {
     "data": {
      "text/plain": [
       "w    10\n",
       "x    20\n",
       "y    30\n",
       "z    40\n",
       "dtype: int32"
      ]
     },
     "execution_count": 6,
     "metadata": {},
     "output_type": "execute_result"
    }
   ],
   "source": [
    "pd.Series(array,labels)"
   ]
  },
  {
   "cell_type": "code",
   "execution_count": 7,
   "metadata": {},
   "outputs": [
    {
     "data": {
      "text/plain": [
       "w    10\n",
       "x    20\n",
       "y    30\n",
       "z    40\n",
       "dtype: int64"
      ]
     },
     "execution_count": 7,
     "metadata": {},
     "output_type": "execute_result"
    }
   ],
   "source": [
    "pd.Series(dict)"
   ]
  },
  {
   "cell_type": "markdown",
   "metadata": {},
   "source": [
    "### Pandas dataframe and indexing"
   ]
  },
  {
   "cell_type": "code",
   "execution_count": 8,
   "metadata": {},
   "outputs": [
    {
     "data": {
      "text/plain": [
       "cricket       1\n",
       "football      2\n",
       "basketball    3\n",
       "golf          4\n",
       "dtype: int64"
      ]
     },
     "execution_count": 8,
     "metadata": {},
     "output_type": "execute_result"
    }
   ],
   "source": [
    "sports1=pd.Series([1,2,3,4],index=['cricket','football','basketball','golf'])\n",
    "sports1"
   ]
  },
  {
   "cell_type": "code",
   "execution_count": 9,
   "metadata": {},
   "outputs": [
    {
     "data": {
      "text/plain": [
       "1"
      ]
     },
     "execution_count": 9,
     "metadata": {},
     "output_type": "execute_result"
    }
   ],
   "source": [
    "sports1['cricket']"
   ]
  },
  {
   "cell_type": "code",
   "execution_count": 10,
   "metadata": {},
   "outputs": [
    {
     "data": {
      "text/plain": [
       "cricket     11\n",
       "football     2\n",
       "baseball     3\n",
       "golf         4\n",
       "dtype: int64"
      ]
     },
     "execution_count": 10,
     "metadata": {},
     "output_type": "execute_result"
    }
   ],
   "source": [
    "sports2=pd.Series([11,2,3,4],index=['cricket','football','baseball','golf'])\n",
    "sports2"
   ]
  },
  {
   "cell_type": "code",
   "execution_count": 11,
   "metadata": {},
   "outputs": [
    {
     "data": {
      "text/plain": [
       "baseball       NaN\n",
       "basketball     NaN\n",
       "cricket       12.0\n",
       "football       4.0\n",
       "golf           8.0\n",
       "dtype: float64"
      ]
     },
     "execution_count": 11,
     "metadata": {},
     "output_type": "execute_result"
    }
   ],
   "source": [
    "sports1+sports2"
   ]
  },
  {
   "cell_type": "code",
   "execution_count": 12,
   "metadata": {},
   "outputs": [
    {
     "data": {
      "text/html": [
       "<div>\n",
       "<style scoped>\n",
       "    .dataframe tbody tr th:only-of-type {\n",
       "        vertical-align: middle;\n",
       "    }\n",
       "\n",
       "    .dataframe tbody tr th {\n",
       "        vertical-align: top;\n",
       "    }\n",
       "\n",
       "    .dataframe thead th {\n",
       "        text-align: right;\n",
       "    }\n",
       "</style>\n",
       "<table border=\"1\" class=\"dataframe\">\n",
       "  <thead>\n",
       "    <tr style=\"text-align: right;\">\n",
       "      <th></th>\n",
       "      <th>Score1</th>\n",
       "      <th>Score2</th>\n",
       "      <th>Score3</th>\n",
       "      <th>Score4</th>\n",
       "      <th>Score5</th>\n",
       "    </tr>\n",
       "  </thead>\n",
       "  <tbody>\n",
       "    <tr>\n",
       "      <th>A</th>\n",
       "      <td>0.757107</td>\n",
       "      <td>0.833406</td>\n",
       "      <td>0.096393</td>\n",
       "      <td>0.623519</td>\n",
       "      <td>0.354502</td>\n",
       "    </tr>\n",
       "    <tr>\n",
       "      <th>B</th>\n",
       "      <td>0.069560</td>\n",
       "      <td>0.044036</td>\n",
       "      <td>0.462350</td>\n",
       "      <td>0.702419</td>\n",
       "      <td>0.178482</td>\n",
       "    </tr>\n",
       "    <tr>\n",
       "      <th>C</th>\n",
       "      <td>0.966928</td>\n",
       "      <td>0.988587</td>\n",
       "      <td>0.598481</td>\n",
       "      <td>0.819884</td>\n",
       "      <td>0.120026</td>\n",
       "    </tr>\n",
       "    <tr>\n",
       "      <th>D</th>\n",
       "      <td>0.710337</td>\n",
       "      <td>0.198130</td>\n",
       "      <td>0.725122</td>\n",
       "      <td>0.874120</td>\n",
       "      <td>0.363848</td>\n",
       "    </tr>\n",
       "    <tr>\n",
       "      <th>E</th>\n",
       "      <td>0.249673</td>\n",
       "      <td>0.614488</td>\n",
       "      <td>0.793774</td>\n",
       "      <td>0.879961</td>\n",
       "      <td>0.131681</td>\n",
       "    </tr>\n",
       "    <tr>\n",
       "      <th>F</th>\n",
       "      <td>0.517365</td>\n",
       "      <td>0.421982</td>\n",
       "      <td>0.996286</td>\n",
       "      <td>0.885579</td>\n",
       "      <td>0.552701</td>\n",
       "    </tr>\n",
       "    <tr>\n",
       "      <th>G</th>\n",
       "      <td>0.862776</td>\n",
       "      <td>0.771896</td>\n",
       "      <td>0.974324</td>\n",
       "      <td>0.177946</td>\n",
       "      <td>0.942518</td>\n",
       "    </tr>\n",
       "    <tr>\n",
       "      <th>H</th>\n",
       "      <td>0.937549</td>\n",
       "      <td>0.741587</td>\n",
       "      <td>0.012267</td>\n",
       "      <td>0.500688</td>\n",
       "      <td>0.377307</td>\n",
       "    </tr>\n",
       "  </tbody>\n",
       "</table>\n",
       "</div>"
      ],
      "text/plain": [
       "     Score1    Score2    Score3    Score4    Score5\n",
       "A  0.757107  0.833406  0.096393  0.623519  0.354502\n",
       "B  0.069560  0.044036  0.462350  0.702419  0.178482\n",
       "C  0.966928  0.988587  0.598481  0.819884  0.120026\n",
       "D  0.710337  0.198130  0.725122  0.874120  0.363848\n",
       "E  0.249673  0.614488  0.793774  0.879961  0.131681\n",
       "F  0.517365  0.421982  0.996286  0.885579  0.552701\n",
       "G  0.862776  0.771896  0.974324  0.177946  0.942518\n",
       "H  0.937549  0.741587  0.012267  0.500688  0.377307"
      ]
     },
     "execution_count": 12,
     "metadata": {},
     "output_type": "execute_result"
    }
   ],
   "source": [
    "df1=pd.DataFrame(np.random.rand(8,5),index='A B C D E F G H '.split(),columns='Score1 Score2 Score3 Score4 Score5'.split())\n",
    "df1"
   ]
  },
  {
   "cell_type": "code",
   "execution_count": 13,
   "metadata": {},
   "outputs": [
    {
     "data": {
      "text/plain": [
       "A    0.096393\n",
       "B    0.462350\n",
       "C    0.598481\n",
       "D    0.725122\n",
       "E    0.793774\n",
       "F    0.996286\n",
       "G    0.974324\n",
       "H    0.012267\n",
       "Name: Score3, dtype: float64"
      ]
     },
     "execution_count": 13,
     "metadata": {},
     "output_type": "execute_result"
    }
   ],
   "source": [
    "df1['Score3']"
   ]
  },
  {
   "cell_type": "code",
   "execution_count": 14,
   "metadata": {
    "scrolled": true
   },
   "outputs": [
    {
     "data": {
      "text/html": [
       "<div>\n",
       "<style scoped>\n",
       "    .dataframe tbody tr th:only-of-type {\n",
       "        vertical-align: middle;\n",
       "    }\n",
       "\n",
       "    .dataframe tbody tr th {\n",
       "        vertical-align: top;\n",
       "    }\n",
       "\n",
       "    .dataframe thead th {\n",
       "        text-align: right;\n",
       "    }\n",
       "</style>\n",
       "<table border=\"1\" class=\"dataframe\">\n",
       "  <thead>\n",
       "    <tr style=\"text-align: right;\">\n",
       "      <th></th>\n",
       "      <th>Score2</th>\n",
       "      <th>Score1</th>\n",
       "    </tr>\n",
       "  </thead>\n",
       "  <tbody>\n",
       "    <tr>\n",
       "      <th>A</th>\n",
       "      <td>0.833406</td>\n",
       "      <td>0.757107</td>\n",
       "    </tr>\n",
       "    <tr>\n",
       "      <th>B</th>\n",
       "      <td>0.044036</td>\n",
       "      <td>0.069560</td>\n",
       "    </tr>\n",
       "    <tr>\n",
       "      <th>C</th>\n",
       "      <td>0.988587</td>\n",
       "      <td>0.966928</td>\n",
       "    </tr>\n",
       "    <tr>\n",
       "      <th>D</th>\n",
       "      <td>0.198130</td>\n",
       "      <td>0.710337</td>\n",
       "    </tr>\n",
       "    <tr>\n",
       "      <th>E</th>\n",
       "      <td>0.614488</td>\n",
       "      <td>0.249673</td>\n",
       "    </tr>\n",
       "    <tr>\n",
       "      <th>F</th>\n",
       "      <td>0.421982</td>\n",
       "      <td>0.517365</td>\n",
       "    </tr>\n",
       "    <tr>\n",
       "      <th>G</th>\n",
       "      <td>0.771896</td>\n",
       "      <td>0.862776</td>\n",
       "    </tr>\n",
       "    <tr>\n",
       "      <th>H</th>\n",
       "      <td>0.741587</td>\n",
       "      <td>0.937549</td>\n",
       "    </tr>\n",
       "  </tbody>\n",
       "</table>\n",
       "</div>"
      ],
      "text/plain": [
       "     Score2    Score1\n",
       "A  0.833406  0.757107\n",
       "B  0.044036  0.069560\n",
       "C  0.988587  0.966928\n",
       "D  0.198130  0.710337\n",
       "E  0.614488  0.249673\n",
       "F  0.421982  0.517365\n",
       "G  0.771896  0.862776\n",
       "H  0.741587  0.937549"
      ]
     },
     "execution_count": 14,
     "metadata": {},
     "output_type": "execute_result"
    }
   ],
   "source": [
    "df1[['Score2','Score1']]"
   ]
  },
  {
   "cell_type": "code",
   "execution_count": 15,
   "metadata": {},
   "outputs": [
    {
     "data": {
      "text/html": [
       "<div>\n",
       "<style scoped>\n",
       "    .dataframe tbody tr th:only-of-type {\n",
       "        vertical-align: middle;\n",
       "    }\n",
       "\n",
       "    .dataframe tbody tr th {\n",
       "        vertical-align: top;\n",
       "    }\n",
       "\n",
       "    .dataframe thead th {\n",
       "        text-align: right;\n",
       "    }\n",
       "</style>\n",
       "<table border=\"1\" class=\"dataframe\">\n",
       "  <thead>\n",
       "    <tr style=\"text-align: right;\">\n",
       "      <th></th>\n",
       "      <th>Score1</th>\n",
       "      <th>Score2</th>\n",
       "      <th>Score3</th>\n",
       "      <th>Score4</th>\n",
       "      <th>Score5</th>\n",
       "      <th>Score6</th>\n",
       "    </tr>\n",
       "  </thead>\n",
       "  <tbody>\n",
       "    <tr>\n",
       "      <th>A</th>\n",
       "      <td>0.757107</td>\n",
       "      <td>0.833406</td>\n",
       "      <td>0.096393</td>\n",
       "      <td>0.623519</td>\n",
       "      <td>0.354502</td>\n",
       "      <td>1.590512</td>\n",
       "    </tr>\n",
       "    <tr>\n",
       "      <th>B</th>\n",
       "      <td>0.069560</td>\n",
       "      <td>0.044036</td>\n",
       "      <td>0.462350</td>\n",
       "      <td>0.702419</td>\n",
       "      <td>0.178482</td>\n",
       "      <td>0.113596</td>\n",
       "    </tr>\n",
       "    <tr>\n",
       "      <th>C</th>\n",
       "      <td>0.966928</td>\n",
       "      <td>0.988587</td>\n",
       "      <td>0.598481</td>\n",
       "      <td>0.819884</td>\n",
       "      <td>0.120026</td>\n",
       "      <td>1.955516</td>\n",
       "    </tr>\n",
       "    <tr>\n",
       "      <th>D</th>\n",
       "      <td>0.710337</td>\n",
       "      <td>0.198130</td>\n",
       "      <td>0.725122</td>\n",
       "      <td>0.874120</td>\n",
       "      <td>0.363848</td>\n",
       "      <td>0.908468</td>\n",
       "    </tr>\n",
       "    <tr>\n",
       "      <th>E</th>\n",
       "      <td>0.249673</td>\n",
       "      <td>0.614488</td>\n",
       "      <td>0.793774</td>\n",
       "      <td>0.879961</td>\n",
       "      <td>0.131681</td>\n",
       "      <td>0.864161</td>\n",
       "    </tr>\n",
       "    <tr>\n",
       "      <th>F</th>\n",
       "      <td>0.517365</td>\n",
       "      <td>0.421982</td>\n",
       "      <td>0.996286</td>\n",
       "      <td>0.885579</td>\n",
       "      <td>0.552701</td>\n",
       "      <td>0.939348</td>\n",
       "    </tr>\n",
       "    <tr>\n",
       "      <th>G</th>\n",
       "      <td>0.862776</td>\n",
       "      <td>0.771896</td>\n",
       "      <td>0.974324</td>\n",
       "      <td>0.177946</td>\n",
       "      <td>0.942518</td>\n",
       "      <td>1.634672</td>\n",
       "    </tr>\n",
       "    <tr>\n",
       "      <th>H</th>\n",
       "      <td>0.937549</td>\n",
       "      <td>0.741587</td>\n",
       "      <td>0.012267</td>\n",
       "      <td>0.500688</td>\n",
       "      <td>0.377307</td>\n",
       "      <td>1.679136</td>\n",
       "    </tr>\n",
       "  </tbody>\n",
       "</table>\n",
       "</div>"
      ],
      "text/plain": [
       "     Score1    Score2    Score3    Score4    Score5    Score6\n",
       "A  0.757107  0.833406  0.096393  0.623519  0.354502  1.590512\n",
       "B  0.069560  0.044036  0.462350  0.702419  0.178482  0.113596\n",
       "C  0.966928  0.988587  0.598481  0.819884  0.120026  1.955516\n",
       "D  0.710337  0.198130  0.725122  0.874120  0.363848  0.908468\n",
       "E  0.249673  0.614488  0.793774  0.879961  0.131681  0.864161\n",
       "F  0.517365  0.421982  0.996286  0.885579  0.552701  0.939348\n",
       "G  0.862776  0.771896  0.974324  0.177946  0.942518  1.634672\n",
       "H  0.937549  0.741587  0.012267  0.500688  0.377307  1.679136"
      ]
     },
     "execution_count": 15,
     "metadata": {},
     "output_type": "execute_result"
    }
   ],
   "source": [
    "df1['Score6']=df1['Score1']+df1['Score2']\n",
    "df1"
   ]
  },
  {
   "cell_type": "code",
   "execution_count": 16,
   "metadata": {},
   "outputs": [
    {
     "data": {
      "text/html": [
       "<div>\n",
       "<style scoped>\n",
       "    .dataframe tbody tr th:only-of-type {\n",
       "        vertical-align: middle;\n",
       "    }\n",
       "\n",
       "    .dataframe tbody tr th {\n",
       "        vertical-align: top;\n",
       "    }\n",
       "\n",
       "    .dataframe thead th {\n",
       "        text-align: right;\n",
       "    }\n",
       "</style>\n",
       "<table border=\"1\" class=\"dataframe\">\n",
       "  <thead>\n",
       "    <tr style=\"text-align: right;\">\n",
       "      <th></th>\n",
       "      <th>Score1</th>\n",
       "      <th>Score2</th>\n",
       "      <th>Score3</th>\n",
       "      <th>Score4</th>\n",
       "      <th>Score6</th>\n",
       "    </tr>\n",
       "  </thead>\n",
       "  <tbody>\n",
       "    <tr>\n",
       "      <th>A</th>\n",
       "      <td>0.757107</td>\n",
       "      <td>0.833406</td>\n",
       "      <td>0.096393</td>\n",
       "      <td>0.623519</td>\n",
       "      <td>1.590512</td>\n",
       "    </tr>\n",
       "    <tr>\n",
       "      <th>B</th>\n",
       "      <td>0.069560</td>\n",
       "      <td>0.044036</td>\n",
       "      <td>0.462350</td>\n",
       "      <td>0.702419</td>\n",
       "      <td>0.113596</td>\n",
       "    </tr>\n",
       "    <tr>\n",
       "      <th>C</th>\n",
       "      <td>0.966928</td>\n",
       "      <td>0.988587</td>\n",
       "      <td>0.598481</td>\n",
       "      <td>0.819884</td>\n",
       "      <td>1.955516</td>\n",
       "    </tr>\n",
       "    <tr>\n",
       "      <th>D</th>\n",
       "      <td>0.710337</td>\n",
       "      <td>0.198130</td>\n",
       "      <td>0.725122</td>\n",
       "      <td>0.874120</td>\n",
       "      <td>0.908468</td>\n",
       "    </tr>\n",
       "    <tr>\n",
       "      <th>E</th>\n",
       "      <td>0.249673</td>\n",
       "      <td>0.614488</td>\n",
       "      <td>0.793774</td>\n",
       "      <td>0.879961</td>\n",
       "      <td>0.864161</td>\n",
       "    </tr>\n",
       "    <tr>\n",
       "      <th>F</th>\n",
       "      <td>0.517365</td>\n",
       "      <td>0.421982</td>\n",
       "      <td>0.996286</td>\n",
       "      <td>0.885579</td>\n",
       "      <td>0.939348</td>\n",
       "    </tr>\n",
       "    <tr>\n",
       "      <th>G</th>\n",
       "      <td>0.862776</td>\n",
       "      <td>0.771896</td>\n",
       "      <td>0.974324</td>\n",
       "      <td>0.177946</td>\n",
       "      <td>1.634672</td>\n",
       "    </tr>\n",
       "    <tr>\n",
       "      <th>H</th>\n",
       "      <td>0.937549</td>\n",
       "      <td>0.741587</td>\n",
       "      <td>0.012267</td>\n",
       "      <td>0.500688</td>\n",
       "      <td>1.679136</td>\n",
       "    </tr>\n",
       "  </tbody>\n",
       "</table>\n",
       "</div>"
      ],
      "text/plain": [
       "     Score1    Score2    Score3    Score4    Score6\n",
       "A  0.757107  0.833406  0.096393  0.623519  1.590512\n",
       "B  0.069560  0.044036  0.462350  0.702419  0.113596\n",
       "C  0.966928  0.988587  0.598481  0.819884  1.955516\n",
       "D  0.710337  0.198130  0.725122  0.874120  0.908468\n",
       "E  0.249673  0.614488  0.793774  0.879961  0.864161\n",
       "F  0.517365  0.421982  0.996286  0.885579  0.939348\n",
       "G  0.862776  0.771896  0.974324  0.177946  1.634672\n",
       "H  0.937549  0.741587  0.012267  0.500688  1.679136"
      ]
     },
     "execution_count": 16,
     "metadata": {},
     "output_type": "execute_result"
    }
   ],
   "source": [
    "df1.drop('Score5',axis=1)"
   ]
  },
  {
   "cell_type": "code",
   "execution_count": 17,
   "metadata": {},
   "outputs": [
    {
     "data": {
      "text/html": [
       "<div>\n",
       "<style scoped>\n",
       "    .dataframe tbody tr th:only-of-type {\n",
       "        vertical-align: middle;\n",
       "    }\n",
       "\n",
       "    .dataframe tbody tr th {\n",
       "        vertical-align: top;\n",
       "    }\n",
       "\n",
       "    .dataframe thead th {\n",
       "        text-align: right;\n",
       "    }\n",
       "</style>\n",
       "<table border=\"1\" class=\"dataframe\">\n",
       "  <thead>\n",
       "    <tr style=\"text-align: right;\">\n",
       "      <th></th>\n",
       "      <th>index</th>\n",
       "      <th>Score1</th>\n",
       "      <th>Score2</th>\n",
       "      <th>Score3</th>\n",
       "      <th>Score4</th>\n",
       "      <th>Score5</th>\n",
       "      <th>Score6</th>\n",
       "    </tr>\n",
       "  </thead>\n",
       "  <tbody>\n",
       "    <tr>\n",
       "      <th>0</th>\n",
       "      <td>A</td>\n",
       "      <td>0.757107</td>\n",
       "      <td>0.833406</td>\n",
       "      <td>0.096393</td>\n",
       "      <td>0.623519</td>\n",
       "      <td>0.354502</td>\n",
       "      <td>1.590512</td>\n",
       "    </tr>\n",
       "    <tr>\n",
       "      <th>1</th>\n",
       "      <td>B</td>\n",
       "      <td>0.069560</td>\n",
       "      <td>0.044036</td>\n",
       "      <td>0.462350</td>\n",
       "      <td>0.702419</td>\n",
       "      <td>0.178482</td>\n",
       "      <td>0.113596</td>\n",
       "    </tr>\n",
       "    <tr>\n",
       "      <th>2</th>\n",
       "      <td>C</td>\n",
       "      <td>0.966928</td>\n",
       "      <td>0.988587</td>\n",
       "      <td>0.598481</td>\n",
       "      <td>0.819884</td>\n",
       "      <td>0.120026</td>\n",
       "      <td>1.955516</td>\n",
       "    </tr>\n",
       "    <tr>\n",
       "      <th>3</th>\n",
       "      <td>D</td>\n",
       "      <td>0.710337</td>\n",
       "      <td>0.198130</td>\n",
       "      <td>0.725122</td>\n",
       "      <td>0.874120</td>\n",
       "      <td>0.363848</td>\n",
       "      <td>0.908468</td>\n",
       "    </tr>\n",
       "    <tr>\n",
       "      <th>4</th>\n",
       "      <td>E</td>\n",
       "      <td>0.249673</td>\n",
       "      <td>0.614488</td>\n",
       "      <td>0.793774</td>\n",
       "      <td>0.879961</td>\n",
       "      <td>0.131681</td>\n",
       "      <td>0.864161</td>\n",
       "    </tr>\n",
       "    <tr>\n",
       "      <th>5</th>\n",
       "      <td>F</td>\n",
       "      <td>0.517365</td>\n",
       "      <td>0.421982</td>\n",
       "      <td>0.996286</td>\n",
       "      <td>0.885579</td>\n",
       "      <td>0.552701</td>\n",
       "      <td>0.939348</td>\n",
       "    </tr>\n",
       "    <tr>\n",
       "      <th>6</th>\n",
       "      <td>G</td>\n",
       "      <td>0.862776</td>\n",
       "      <td>0.771896</td>\n",
       "      <td>0.974324</td>\n",
       "      <td>0.177946</td>\n",
       "      <td>0.942518</td>\n",
       "      <td>1.634672</td>\n",
       "    </tr>\n",
       "    <tr>\n",
       "      <th>7</th>\n",
       "      <td>H</td>\n",
       "      <td>0.937549</td>\n",
       "      <td>0.741587</td>\n",
       "      <td>0.012267</td>\n",
       "      <td>0.500688</td>\n",
       "      <td>0.377307</td>\n",
       "      <td>1.679136</td>\n",
       "    </tr>\n",
       "  </tbody>\n",
       "</table>\n",
       "</div>"
      ],
      "text/plain": [
       "  index    Score1    Score2    Score3    Score4    Score5    Score6\n",
       "0     A  0.757107  0.833406  0.096393  0.623519  0.354502  1.590512\n",
       "1     B  0.069560  0.044036  0.462350  0.702419  0.178482  0.113596\n",
       "2     C  0.966928  0.988587  0.598481  0.819884  0.120026  1.955516\n",
       "3     D  0.710337  0.198130  0.725122  0.874120  0.363848  0.908468\n",
       "4     E  0.249673  0.614488  0.793774  0.879961  0.131681  0.864161\n",
       "5     F  0.517365  0.421982  0.996286  0.885579  0.552701  0.939348\n",
       "6     G  0.862776  0.771896  0.974324  0.177946  0.942518  1.634672\n",
       "7     H  0.937549  0.741587  0.012267  0.500688  0.377307  1.679136"
      ]
     },
     "execution_count": 17,
     "metadata": {},
     "output_type": "execute_result"
    }
   ],
   "source": [
    "df1.reset_index()"
   ]
  },
  {
   "cell_type": "code",
   "execution_count": 18,
   "metadata": {
    "scrolled": false
   },
   "outputs": [
    {
     "data": {
      "text/html": [
       "<div>\n",
       "<style scoped>\n",
       "    .dataframe tbody tr th:only-of-type {\n",
       "        vertical-align: middle;\n",
       "    }\n",
       "\n",
       "    .dataframe tbody tr th {\n",
       "        vertical-align: top;\n",
       "    }\n",
       "\n",
       "    .dataframe thead th {\n",
       "        text-align: right;\n",
       "    }\n",
       "</style>\n",
       "<table border=\"1\" class=\"dataframe\">\n",
       "  <thead>\n",
       "    <tr style=\"text-align: right;\">\n",
       "      <th></th>\n",
       "      <th>ID</th>\n",
       "      <th>Name</th>\n",
       "      <th>Profit</th>\n",
       "    </tr>\n",
       "  </thead>\n",
       "  <tbody>\n",
       "    <tr>\n",
       "      <th>0</th>\n",
       "      <td>101</td>\n",
       "      <td>John</td>\n",
       "      <td>20</td>\n",
       "    </tr>\n",
       "    <tr>\n",
       "      <th>1</th>\n",
       "      <td>102</td>\n",
       "      <td>Mercy</td>\n",
       "      <td>54</td>\n",
       "    </tr>\n",
       "    <tr>\n",
       "      <th>2</th>\n",
       "      <td>103</td>\n",
       "      <td>Akash</td>\n",
       "      <td>56</td>\n",
       "    </tr>\n",
       "    <tr>\n",
       "      <th>3</th>\n",
       "      <td>107</td>\n",
       "      <td>Kavin</td>\n",
       "      <td>87</td>\n",
       "    </tr>\n",
       "    <tr>\n",
       "      <th>4</th>\n",
       "      <td>176</td>\n",
       "      <td>Lally</td>\n",
       "      <td>123</td>\n",
       "    </tr>\n",
       "  </tbody>\n",
       "</table>\n",
       "</div>"
      ],
      "text/plain": [
       "    ID   Name  Profit\n",
       "0  101   John      20\n",
       "1  102  Mercy      54\n",
       "2  103  Akash      56\n",
       "3  107  Kavin      87\n",
       "4  176  Lally     123"
      ]
     },
     "execution_count": 18,
     "metadata": {},
     "output_type": "execute_result"
    }
   ],
   "source": [
    "df2={'ID':['101','102','103','107','176'],'Name':['John','Mercy','Akash','Kavin','Lally'],'Profit':[20,54,56,87,123]}\n",
    "df=pd.DataFrame(df2)\n",
    "df"
   ]
  },
  {
   "cell_type": "code",
   "execution_count": 19,
   "metadata": {},
   "outputs": [
    {
     "data": {
      "text/plain": [
       "0     5.0\n",
       "1     7.0\n",
       "2     6.0\n",
       "3     8.0\n",
       "4     1.0\n",
       "5     2.0\n",
       "6    10.0\n",
       "7     3.0\n",
       "8     9.0\n",
       "9     4.0\n",
       "dtype: float64"
      ]
     },
     "execution_count": 19,
     "metadata": {},
     "output_type": "execute_result"
    }
   ],
   "source": [
    "score_array = np.array([ 121, 212, 153, 214, 115, 116, 237, 118, 219, 120]) \n",
    "score_series = pd. Series(score_array) \n",
    "score_series.rank(ascending='false')"
   ]
  }
 ],
 "metadata": {
  "kernelspec": {
   "display_name": "Python 3",
   "language": "python",
   "name": "python3"
  },
  "language_info": {
   "codemirror_mode": {
    "name": "ipython",
    "version": 3
   },
   "file_extension": ".py",
   "mimetype": "text/x-python",
   "name": "python",
   "nbconvert_exporter": "python",
   "pygments_lexer": "ipython3",
   "version": "3.8.8"
  }
 },
 "nbformat": 4,
 "nbformat_minor": 4
}
