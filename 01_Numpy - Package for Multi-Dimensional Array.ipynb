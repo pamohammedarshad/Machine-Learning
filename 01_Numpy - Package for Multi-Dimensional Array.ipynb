{
 "cells": [
  {
   "cell_type": "code",
   "execution_count": 1,
   "id": "552350cb",
   "metadata": {},
   "outputs": [],
   "source": [
    "import numpy as np"
   ]
  },
  {
   "cell_type": "markdown",
   "id": "afa8ff08",
   "metadata": {},
   "source": [
    "### Create an array"
   ]
  },
  {
   "cell_type": "code",
   "execution_count": 2,
   "id": "51605c41",
   "metadata": {},
   "outputs": [
    {
     "data": {
      "text/plain": [
       "array([6, 7, 9])"
      ]
     },
     "execution_count": 2,
     "metadata": {},
     "output_type": "execute_result"
    }
   ],
   "source": [
    "# create an array from a lst using np.array\n",
    "simple_list = [6,7,9]\n",
    "np.array(simple_list)"
   ]
  },
  {
   "cell_type": "code",
   "execution_count": 3,
   "id": "df7ef6c6",
   "metadata": {},
   "outputs": [
    {
     "data": {
      "text/plain": [
       "array([1, 2, 3])"
      ]
     },
     "execution_count": 3,
     "metadata": {},
     "output_type": "execute_result"
    }
   ],
   "source": [
    "#create a numpy array\n",
    "arr = np.array([1,2,3,])\n",
    "arr"
   ]
  },
  {
   "cell_type": "code",
   "execution_count": 4,
   "id": "9c4264b8",
   "metadata": {},
   "outputs": [
    {
     "data": {
      "text/plain": [
       "array([[1, 2, 3],\n",
       "       [4, 5, 6],\n",
       "       [7, 8, 9]])"
      ]
     },
     "execution_count": 4,
     "metadata": {},
     "output_type": "execute_result"
    }
   ],
   "source": [
    "list_of_lists = ([1,2,3],[4,5,6],[7,8,9])\n",
    "np.array(list_of_lists)"
   ]
  },
  {
   "cell_type": "code",
   "execution_count": 5,
   "id": "4e4db704",
   "metadata": {},
   "outputs": [
    {
     "data": {
      "text/plain": [
       "array([ 5,  6,  7,  8,  9, 10, 11, 12, 13, 14, 15, 16, 17, 18, 19, 20, 21,\n",
       "       22, 23, 24, 25, 26, 27])"
      ]
     },
     "execution_count": 5,
     "metadata": {},
     "output_type": "execute_result"
    }
   ],
   "source": [
    "np.arange(5,28)"
   ]
  },
  {
   "cell_type": "code",
   "execution_count": 6,
   "id": "de1ca02b",
   "metadata": {},
   "outputs": [
    {
     "data": {
      "text/plain": [
       "array([ 5, 11, 17, 23, 29])"
      ]
     },
     "execution_count": 6,
     "metadata": {},
     "output_type": "execute_result"
    }
   ],
   "source": [
    "np.arange(5,35,6)"
   ]
  },
  {
   "cell_type": "code",
   "execution_count": 7,
   "id": "9eb0320c",
   "metadata": {},
   "outputs": [
    {
     "data": {
      "text/plain": [
       "array([0., 0., 0., 0., 0., 0.])"
      ]
     },
     "execution_count": 7,
     "metadata": {},
     "output_type": "execute_result"
    }
   ],
   "source": [
    "np.zeros(6)"
   ]
  },
  {
   "cell_type": "code",
   "execution_count": 8,
   "id": "0711e359",
   "metadata": {},
   "outputs": [
    {
     "data": {
      "text/plain": [
       "array([0, 0, 0, 0, 0, 0])"
      ]
     },
     "execution_count": 8,
     "metadata": {},
     "output_type": "execute_result"
    }
   ],
   "source": [
    "np.zeros(6,dtype=int)"
   ]
  },
  {
   "cell_type": "code",
   "execution_count": 9,
   "id": "3aad82f0",
   "metadata": {},
   "outputs": [
    {
     "data": {
      "text/plain": [
       "array([1., 1., 1., 1., 1.])"
      ]
     },
     "execution_count": 9,
     "metadata": {},
     "output_type": "execute_result"
    }
   ],
   "source": [
    "np.ones(5)"
   ]
  },
  {
   "cell_type": "code",
   "execution_count": 10,
   "id": "901e0f67",
   "metadata": {},
   "outputs": [
    {
     "data": {
      "text/plain": [
       "array([1, 1, 1, 1, 1])"
      ]
     },
     "execution_count": 10,
     "metadata": {},
     "output_type": "execute_result"
    }
   ],
   "source": [
    "np.ones(5,dtype=int)"
   ]
  },
  {
   "cell_type": "code",
   "execution_count": 11,
   "id": "b7e4571b",
   "metadata": {},
   "outputs": [
    {
     "data": {
      "text/plain": [
       "array([[1, 1, 1, 1, 1],\n",
       "       [1, 1, 1, 1, 1]])"
      ]
     },
     "execution_count": 11,
     "metadata": {},
     "output_type": "execute_result"
    }
   ],
   "source": [
    "np.ones((2,5),dtype = int)"
   ]
  },
  {
   "cell_type": "code",
   "execution_count": 12,
   "id": "b48dcfaf",
   "metadata": {},
   "outputs": [
    {
     "data": {
      "text/plain": [
       "array([[1., 0., 0., 0., 0.],\n",
       "       [0., 1., 0., 0., 0.],\n",
       "       [0., 0., 1., 0., 0.],\n",
       "       [0., 0., 0., 1., 0.],\n",
       "       [0., 0., 0., 0., 1.]])"
      ]
     },
     "execution_count": 12,
     "metadata": {},
     "output_type": "execute_result"
    }
   ],
   "source": [
    "np.identity(5)"
   ]
  },
  {
   "cell_type": "code",
   "execution_count": 13,
   "id": "27aa3ffe",
   "metadata": {},
   "outputs": [
    {
     "name": "stdout",
     "output_type": "stream",
     "text": [
      "[  1.  12.  23.  34.  45.  56.  67.  78.  89. 100.]\n"
     ]
    }
   ],
   "source": [
    "# create array of numbers between 1 and 100  using linspace with 10 spaces\n",
    "nums =np.linspace(start = 1, stop = 100, num=10)\n",
    "print(nums)"
   ]
  },
  {
   "cell_type": "code",
   "execution_count": 14,
   "id": "366095b9",
   "metadata": {},
   "outputs": [
    {
     "data": {
      "text/plain": [
       "array([ 0.        ,  2.22222222,  4.44444444,  6.66666667,  8.88888889,\n",
       "       11.11111111, 13.33333333, 15.55555556, 17.77777778, 20.        ])"
      ]
     },
     "execution_count": 14,
     "metadata": {},
     "output_type": "execute_result"
    }
   ],
   "source": [
    "np.linspace(0,20,10)"
   ]
  },
  {
   "cell_type": "code",
   "execution_count": 15,
   "id": "d8dedc49",
   "metadata": {},
   "outputs": [
    {
     "data": {
      "text/plain": [
       "array([ 0.        ,  0.71428571,  1.42857143,  2.14285714,  2.85714286,\n",
       "        3.57142857,  4.28571429,  5.        ,  5.71428571,  6.42857143,\n",
       "        7.14285714,  7.85714286,  8.57142857,  9.28571429, 10.        ])"
      ]
     },
     "execution_count": 15,
     "metadata": {},
     "output_type": "execute_result"
    }
   ],
   "source": [
    "np.linspace(0,10,15)"
   ]
  },
  {
   "cell_type": "code",
   "execution_count": 16,
   "id": "97e55e23",
   "metadata": {},
   "outputs": [
    {
     "data": {
      "text/plain": [
       "array([[1, 0, 0, 0, 0],\n",
       "       [0, 1, 0, 0, 0],\n",
       "       [0, 0, 1, 0, 0],\n",
       "       [0, 0, 0, 1, 0],\n",
       "       [0, 0, 0, 0, 1]])"
      ]
     },
     "execution_count": 16,
     "metadata": {},
     "output_type": "execute_result"
    }
   ],
   "source": [
    "np.eye(5,dtype=int)"
   ]
  },
  {
   "cell_type": "code",
   "execution_count": 17,
   "id": "bbdac9d0",
   "metadata": {},
   "outputs": [
    {
     "data": {
      "text/plain": [
       "array([[0.81258202, 0.55041739, 0.83352399, 0.29162407],\n",
       "       [0.67471414, 0.83547845, 0.8986303 , 0.81179323]])"
      ]
     },
     "execution_count": 17,
     "metadata": {},
     "output_type": "execute_result"
    }
   ],
   "source": [
    "# rand() method creates an array of random numbers of the given shape\n",
    "# and between (0, 1)\n",
    "np.random.rand(2,4)"
   ]
  },
  {
   "cell_type": "code",
   "execution_count": 18,
   "id": "d1db09e8",
   "metadata": {},
   "outputs": [
    {
     "data": {
      "text/plain": [
       "array([[-2.17713393, -0.41000425,  0.6037208 ,  0.05752776],\n",
       "       [-1.75155547,  0.01505039,  1.96979601, -0.53266301]])"
      ]
     },
     "execution_count": 18,
     "metadata": {},
     "output_type": "execute_result"
    }
   ],
   "source": [
    "#The randn() returns a set of values from the standard normal distribution\n",
    "\n",
    "np.random.randn(2,4)"
   ]
  },
  {
   "cell_type": "code",
   "execution_count": 19,
   "id": "86b94eeb",
   "metadata": {},
   "outputs": [
    {
     "data": {
      "text/plain": [
       "array([[0.38355494, 0.53017413, 0.61977285, 0.99334381, 0.30761972],\n",
       "       [0.1751443 , 0.53736582, 0.34351573, 0.0948164 , 0.22338487]])"
      ]
     },
     "execution_count": 19,
     "metadata": {},
     "output_type": "execute_result"
    }
   ],
   "source": [
    "np.random.rand(2,5)"
   ]
  },
  {
   "cell_type": "code",
   "execution_count": 20,
   "id": "ad2c2021",
   "metadata": {},
   "outputs": [
    {
     "data": {
      "text/plain": [
       "array([7, 6, 6, 9, 3, 0, 7, 1, 5, 9, 1, 3, 5, 3, 5])"
      ]
     },
     "execution_count": 20,
     "metadata": {},
     "output_type": "execute_result"
    }
   ],
   "source": [
    "# Returns 15 random integers between 0 and 10\n",
    "np.random.randint(0,10,15)"
   ]
  },
  {
   "cell_type": "code",
   "execution_count": 21,
   "id": "e657f257",
   "metadata": {},
   "outputs": [
    {
     "data": {
      "text/plain": [
       "array([68, 45, 27, 66, 65, 65, 28, 68, 62, 65, 60, 30, 65, 30, 70, 60, 69,\n",
       "       46, 20, 42, 62, 70, 57, 43, 22, 71, 51, 64, 20, 34, 61, 37, 22, 69,\n",
       "       38, 37, 69, 58, 68, 72, 31, 64, 34, 69, 41, 49, 23, 31, 44, 70, 27,\n",
       "       64, 34, 70, 65, 28, 20, 72, 35, 23, 26, 51, 57, 71, 62, 42, 38, 24,\n",
       "       35, 33, 66, 62, 70, 21, 37, 26, 53, 40, 44, 26, 44, 68, 33, 56, 62,\n",
       "       31, 26, 36, 38, 33, 55, 31, 21, 68, 67, 32, 33, 44, 61, 32])"
      ]
     },
     "execution_count": 21,
     "metadata": {},
     "output_type": "execute_result"
    }
   ],
   "source": [
    "# Returns 100 random integers between 20 and 73\n",
    "np.random.randint(20,73,100)"
   ]
  },
  {
   "cell_type": "code",
   "execution_count": 22,
   "id": "c5274854",
   "metadata": {},
   "outputs": [
    {
     "data": {
      "text/plain": [
       "array([7, 1, 5, 6, 1])"
      ]
     },
     "execution_count": 22,
     "metadata": {},
     "output_type": "execute_result"
    }
   ],
   "source": [
    "rand_array = np.random.randint(0,10,5)\n",
    "rand_array"
   ]
  },
  {
   "cell_type": "code",
   "execution_count": 23,
   "id": "2de9c129",
   "metadata": {},
   "outputs": [
    {
     "data": {
      "text/plain": [
       "array([ 2,  4,  6,  8, 10, 12, 14, 16, 18])"
      ]
     },
     "execution_count": 23,
     "metadata": {},
     "output_type": "execute_result"
    }
   ],
   "source": [
    "# create an arrayof even numbers between 2(inclusive) to 20(exclusive)\n",
    "sample_array=np.arange(start=2,stop=20,step=2)\n",
    "sample_array"
   ]
  },
  {
   "cell_type": "code",
   "execution_count": 24,
   "id": "6ba9fb38",
   "metadata": {},
   "outputs": [
    {
     "data": {
      "text/plain": [
       "2"
      ]
     },
     "execution_count": 24,
     "metadata": {},
     "output_type": "execute_result"
    }
   ],
   "source": [
    "sample_array.min()"
   ]
  },
  {
   "cell_type": "code",
   "execution_count": 25,
   "id": "eeabe0ed",
   "metadata": {},
   "outputs": [
    {
     "data": {
      "text/plain": [
       "0"
      ]
     },
     "execution_count": 25,
     "metadata": {},
     "output_type": "execute_result"
    }
   ],
   "source": [
    "sample_array.argmin()"
   ]
  },
  {
   "cell_type": "code",
   "execution_count": 26,
   "id": "7326470e",
   "metadata": {},
   "outputs": [
    {
     "data": {
      "text/plain": [
       "1"
      ]
     },
     "execution_count": 26,
     "metadata": {},
     "output_type": "execute_result"
    }
   ],
   "source": [
    "rand_array.argmin()"
   ]
  },
  {
   "cell_type": "code",
   "execution_count": 27,
   "id": "8e482e05",
   "metadata": {},
   "outputs": [
    {
     "data": {
      "text/plain": [
       "7"
      ]
     },
     "execution_count": 27,
     "metadata": {},
     "output_type": "execute_result"
    }
   ],
   "source": [
    "rand_array.max()"
   ]
  },
  {
   "cell_type": "code",
   "execution_count": 28,
   "id": "357b948c",
   "metadata": {},
   "outputs": [
    {
     "data": {
      "text/plain": [
       "8"
      ]
     },
     "execution_count": 28,
     "metadata": {},
     "output_type": "execute_result"
    }
   ],
   "source": [
    "sample_array.argmax()"
   ]
  },
  {
   "cell_type": "code",
   "execution_count": 29,
   "id": "26eac041",
   "metadata": {},
   "outputs": [
    {
     "data": {
      "text/plain": [
       "0"
      ]
     },
     "execution_count": 29,
     "metadata": {},
     "output_type": "execute_result"
    }
   ],
   "source": [
    "rand_array.argmax()"
   ]
  },
  {
   "cell_type": "code",
   "execution_count": 30,
   "id": "323729f6",
   "metadata": {},
   "outputs": [
    {
     "data": {
      "text/plain": [
       "dtype('int32')"
      ]
     },
     "execution_count": 30,
     "metadata": {},
     "output_type": "execute_result"
    }
   ],
   "source": [
    "sample_array.dtype"
   ]
  },
  {
   "cell_type": "code",
   "execution_count": 31,
   "id": "4a493de3",
   "metadata": {},
   "outputs": [
    {
     "data": {
      "text/plain": [
       "array([[1., 0., 0., 0., 0.],\n",
       "       [0., 1., 0., 0., 0.],\n",
       "       [0., 0., 1., 0., 0.],\n",
       "       [0., 0., 0., 1., 0.],\n",
       "       [0., 0., 0., 0., 1.]])"
      ]
     },
     "execution_count": 31,
     "metadata": {},
     "output_type": "execute_result"
    }
   ],
   "source": [
    "a=np.eye(5)\n",
    "a"
   ]
  },
  {
   "cell_type": "code",
   "execution_count": 32,
   "id": "c641ec87",
   "metadata": {},
   "outputs": [
    {
     "data": {
      "text/plain": [
       "array([[1., 0., 0., 0., 0.],\n",
       "       [0., 1., 0., 0., 0.],\n",
       "       [0., 0., 1., 0., 0.],\n",
       "       [0., 0., 0., 1., 0.],\n",
       "       [0., 0., 0., 0., 1.]])"
      ]
     },
     "execution_count": 32,
     "metadata": {},
     "output_type": "execute_result"
    }
   ],
   "source": [
    "a.T"
   ]
  },
  {
   "cell_type": "code",
   "execution_count": 33,
   "id": "d618b0c4",
   "metadata": {},
   "outputs": [
    {
     "data": {
      "text/plain": [
       "array([[0.02927937, 0.26042922, 0.71736323],\n",
       "       [0.81660154, 0.21613043, 0.77160109]])"
      ]
     },
     "execution_count": 33,
     "metadata": {},
     "output_type": "execute_result"
    }
   ],
   "source": [
    "a=np.random.rand(2,3)\n",
    "a"
   ]
  },
  {
   "cell_type": "code",
   "execution_count": 34,
   "id": "8f596b6d",
   "metadata": {},
   "outputs": [
    {
     "data": {
      "text/plain": [
       "array([[0.02927937, 0.81660154],\n",
       "       [0.26042922, 0.21613043],\n",
       "       [0.71736323, 0.77160109]])"
      ]
     },
     "execution_count": 34,
     "metadata": {},
     "output_type": "execute_result"
    }
   ],
   "source": [
    "a.T"
   ]
  },
  {
   "cell_type": "code",
   "execution_count": 35,
   "id": "14db9e2d",
   "metadata": {},
   "outputs": [
    {
     "data": {
      "text/plain": [
       "array([10, 11, 12, 13, 14, 15, 16, 17, 18, 19, 20, 21, 22, 23, 24, 25, 26,\n",
       "       27])"
      ]
     },
     "execution_count": 35,
     "metadata": {},
     "output_type": "execute_result"
    }
   ],
   "source": [
    "sample_array = np.arange(10,28)\n",
    "sample_array"
   ]
  },
  {
   "cell_type": "code",
   "execution_count": 38,
   "id": "26e6de06",
   "metadata": {
    "scrolled": true
   },
   "outputs": [
    {
     "data": {
      "text/plain": [
       "array([[10, 11, 12, 13, 14, 15],\n",
       "       [16, 17, 18, 19, 20, 21],\n",
       "       [22, 23, 24, 25, 26, 27]])"
      ]
     },
     "execution_count": 38,
     "metadata": {},
     "output_type": "execute_result"
    }
   ],
   "source": [
    "sample_array = sample_array.reshape(3,6)\n",
    "sample_array"
   ]
  },
  {
   "cell_type": "code",
   "execution_count": 39,
   "id": "53fcf5b6",
   "metadata": {},
   "outputs": [
    {
     "data": {
      "text/plain": [
       "array([[ 10,  11,  12,  13,  14,  15],\n",
       "       [100, 100, 100, 100, 100, 100],\n",
       "       [ 22,  23,  24,  25,  26,  27]])"
      ]
     },
     "execution_count": 39,
     "metadata": {},
     "output_type": "execute_result"
    }
   ],
   "source": [
    "sample_array[1]=100\n",
    "sample_array"
   ]
  },
  {
   "cell_type": "code",
   "execution_count": 40,
   "id": "20e61934",
   "metadata": {},
   "outputs": [
    {
     "data": {
      "text/plain": [
       "array([10, 11, 12, 13, 14, 15, 16, 17, 18, 19, 20, 21, 22, 23, 24, 25, 26,\n",
       "       27, 28, 29, 30, 31, 32, 33, 34, 35, 36, 37, 38, 39, 40, 41, 42, 43,\n",
       "       44, 45, 46, 47, 48, 49, 50, 51, 52, 53, 54, 55, 56, 57, 58, 59, 60,\n",
       "       61, 62, 63, 64, 65, 66, 67, 68, 69, 70, 71, 72, 73, 74, 75, 76, 77,\n",
       "       78, 79, 80, 81, 82, 83, 84, 85, 86, 87, 88, 89, 90, 91, 92, 93, 94,\n",
       "       95, 96, 97, 98, 99])"
      ]
     },
     "execution_count": 40,
     "metadata": {},
     "output_type": "execute_result"
    }
   ],
   "source": [
    "sample_array=np.arange(10,100)\n",
    "sample_array"
   ]
  },
  {
   "cell_type": "code",
   "execution_count": 41,
   "id": "b6ec0255",
   "metadata": {},
   "outputs": [
    {
     "data": {
      "text/plain": [
       "array([11, 12, 13, 14, 15, 16, 17, 18, 19, 20, 21])"
      ]
     },
     "execution_count": 41,
     "metadata": {},
     "output_type": "execute_result"
    }
   ],
   "source": [
    "sample_array[1:12]"
   ]
  },
  {
   "cell_type": "code",
   "execution_count": 42,
   "id": "2208d7f1",
   "metadata": {},
   "outputs": [
    {
     "data": {
      "text/plain": [
       "array([10, 11, 12, 13, 14, 15, 16])"
      ]
     },
     "execution_count": 42,
     "metadata": {},
     "output_type": "execute_result"
    }
   ],
   "source": [
    "subset_sample_array=sample_array[0:7]\n",
    "subset_sample_array"
   ]
  },
  {
   "cell_type": "markdown",
   "id": "90881a88",
   "metadata": {},
   "source": [
    "# Two Dimensional array"
   ]
  },
  {
   "cell_type": "code",
   "execution_count": 43,
   "id": "3e45ae5b",
   "metadata": {},
   "outputs": [],
   "source": [
    "import numpy as np"
   ]
  },
  {
   "cell_type": "code",
   "execution_count": 44,
   "id": "709a3dc7",
   "metadata": {},
   "outputs": [
    {
     "data": {
      "text/plain": [
       "array([[24, 13,  2, 15],\n",
       "       [15,  2, 54, 65],\n",
       "       [56, 76, 24,  7]])"
      ]
     },
     "execution_count": 44,
     "metadata": {},
     "output_type": "execute_result"
    }
   ],
   "source": [
    "# create a 3x3 matrix\n",
    "sample_matrix=np.array(([24,13,2,15],[15,2,54,65],[56,76,24,7]))\n",
    "sample_matrix"
   ]
  },
  {
   "cell_type": "code",
   "execution_count": 45,
   "id": "62895c1d",
   "metadata": {},
   "outputs": [
    {
     "data": {
      "text/plain": [
       "array([], shape=(0, 4), dtype=int32)"
      ]
     },
     "execution_count": 45,
     "metadata": {},
     "output_type": "execute_result"
    }
   ],
   "source": [
    "sample_matrix[2:2]#just returning the matrix  "
   ]
  },
  {
   "cell_type": "code",
   "execution_count": 46,
   "id": "2708966f",
   "metadata": {},
   "outputs": [
    {
     "data": {
      "text/plain": [
       "54"
      ]
     },
     "execution_count": 46,
     "metadata": {},
     "output_type": "execute_result"
    }
   ],
   "source": [
    "# slicing 2D array\n",
    "#[row][colmn]\n",
    "sample_matrix[1][2]"
   ]
  },
  {
   "cell_type": "code",
   "execution_count": 47,
   "id": "8f38c31d",
   "metadata": {},
   "outputs": [
    {
     "data": {
      "text/plain": [
       "array([[15,  2],\n",
       "       [56, 76]])"
      ]
     },
     "execution_count": 47,
     "metadata": {},
     "output_type": "execute_result"
    }
   ],
   "source": [
    "sample_matrix[1:,:2]"
   ]
  },
  {
   "cell_type": "code",
   "execution_count": 48,
   "id": "88d94f47",
   "metadata": {
    "scrolled": true
   },
   "outputs": [
    {
     "data": {
      "text/plain": [
       "24"
      ]
     },
     "execution_count": 48,
     "metadata": {},
     "output_type": "execute_result"
    }
   ],
   "source": [
    "sample_matrix[2][2]"
   ]
  },
  {
   "cell_type": "code",
   "execution_count": 49,
   "id": "8f78c8e4",
   "metadata": {},
   "outputs": [
    {
     "data": {
      "text/plain": [
       "array([56, 76, 24,  7])"
      ]
     },
     "execution_count": 49,
     "metadata": {},
     "output_type": "execute_result"
    }
   ],
   "source": [
    "# returns the second row\n",
    "sample_matrix[2]"
   ]
  },
  {
   "cell_type": "code",
   "execution_count": 50,
   "id": "43ade36e",
   "metadata": {},
   "outputs": [],
   "source": [
    "import numpy as np"
   ]
  },
  {
   "cell_type": "code",
   "execution_count": 51,
   "id": "544ad915",
   "metadata": {},
   "outputs": [
    {
     "data": {
      "text/plain": [
       "array([ 1,  2,  3,  4,  5,  6,  7,  8,  9, 10, 11, 12, 13, 14, 15, 16, 17,\n",
       "       18, 19, 20, 21, 22, 23, 24, 25, 26, 27, 28, 29, 30])"
      ]
     },
     "execution_count": 51,
     "metadata": {},
     "output_type": "execute_result"
    }
   ],
   "source": [
    "sample_array=np.arange(1,31)\n",
    "sample_array"
   ]
  },
  {
   "cell_type": "code",
   "execution_count": 52,
   "id": "ae16fac4",
   "metadata": {},
   "outputs": [
    {
     "data": {
      "text/plain": [
       "array([ 2,  4,  6,  8, 10, 12, 14, 16, 18, 20, 22, 24, 26, 28, 30, 32, 34,\n",
       "       36, 38, 40, 42, 44, 46, 48, 50, 52, 54, 56, 58, 60])"
      ]
     },
     "execution_count": 52,
     "metadata": {},
     "output_type": "execute_result"
    }
   ],
   "source": [
    "sample_array+sample_array"
   ]
  },
  {
   "cell_type": "code",
   "execution_count": 53,
   "id": "3f6648e3",
   "metadata": {},
   "outputs": [
    {
     "data": {
      "text/plain": [
       "array([2.71828183e+00, 7.38905610e+00, 2.00855369e+01, 5.45981500e+01,\n",
       "       1.48413159e+02, 4.03428793e+02, 1.09663316e+03, 2.98095799e+03,\n",
       "       8.10308393e+03, 2.20264658e+04, 5.98741417e+04, 1.62754791e+05,\n",
       "       4.42413392e+05, 1.20260428e+06, 3.26901737e+06, 8.88611052e+06,\n",
       "       2.41549528e+07, 6.56599691e+07, 1.78482301e+08, 4.85165195e+08,\n",
       "       1.31881573e+09, 3.58491285e+09, 9.74480345e+09, 2.64891221e+10,\n",
       "       7.20048993e+10, 1.95729609e+11, 5.32048241e+11, 1.44625706e+12,\n",
       "       3.93133430e+12, 1.06864746e+13])"
      ]
     },
     "execution_count": 53,
     "metadata": {},
     "output_type": "execute_result"
    }
   ],
   "source": [
    "np.exp(sample_array)"
   ]
  },
  {
   "cell_type": "code",
   "execution_count": 54,
   "id": "9edd7cee",
   "metadata": {},
   "outputs": [
    {
     "data": {
      "text/plain": [
       "array([1.        , 1.41421356, 1.73205081, 2.        , 2.23606798,\n",
       "       2.44948974, 2.64575131, 2.82842712, 3.        , 3.16227766,\n",
       "       3.31662479, 3.46410162, 3.60555128, 3.74165739, 3.87298335,\n",
       "       4.        , 4.12310563, 4.24264069, 4.35889894, 4.47213595,\n",
       "       4.58257569, 4.69041576, 4.79583152, 4.89897949, 5.        ,\n",
       "       5.09901951, 5.19615242, 5.29150262, 5.38516481, 5.47722558])"
      ]
     },
     "execution_count": 54,
     "metadata": {},
     "output_type": "execute_result"
    }
   ],
   "source": [
    "np.sqrt(sample_array)"
   ]
  },
  {
   "cell_type": "code",
   "execution_count": 55,
   "id": "5fba19e7",
   "metadata": {},
   "outputs": [
    {
     "data": {
      "text/plain": [
       "array([0.        , 0.69314718, 1.09861229, 1.38629436, 1.60943791,\n",
       "       1.79175947, 1.94591015, 2.07944154, 2.19722458, 2.30258509,\n",
       "       2.39789527, 2.48490665, 2.56494936, 2.63905733, 2.7080502 ,\n",
       "       2.77258872, 2.83321334, 2.89037176, 2.94443898, 2.99573227,\n",
       "       3.04452244, 3.09104245, 3.13549422, 3.17805383, 3.21887582,\n",
       "       3.25809654, 3.29583687, 3.33220451, 3.36729583, 3.40119738])"
      ]
     },
     "execution_count": 55,
     "metadata": {},
     "output_type": "execute_result"
    }
   ],
   "source": [
    "np.log(sample_array)"
   ]
  },
  {
   "cell_type": "code",
   "execution_count": 56,
   "id": "5e820a03",
   "metadata": {},
   "outputs": [
    {
     "data": {
      "text/plain": [
       "30"
      ]
     },
     "execution_count": 56,
     "metadata": {},
     "output_type": "execute_result"
    }
   ],
   "source": [
    "np.max(sample_array)"
   ]
  },
  {
   "cell_type": "code",
   "execution_count": 57,
   "id": "093f17c1",
   "metadata": {},
   "outputs": [
    {
     "data": {
      "text/plain": [
       "1"
      ]
     },
     "execution_count": 57,
     "metadata": {},
     "output_type": "execute_result"
    }
   ],
   "source": [
    "np.min(sample_array)"
   ]
  },
  {
   "cell_type": "code",
   "execution_count": 58,
   "id": "f9363f4e",
   "metadata": {},
   "outputs": [
    {
     "data": {
      "text/plain": [
       "29"
      ]
     },
     "execution_count": 58,
     "metadata": {},
     "output_type": "execute_result"
    }
   ],
   "source": [
    "np.argmax(sample_array)"
   ]
  },
  {
   "cell_type": "code",
   "execution_count": 59,
   "id": "af4cb3a3",
   "metadata": {},
   "outputs": [
    {
     "data": {
      "text/plain": [
       "0"
      ]
     },
     "execution_count": 59,
     "metadata": {},
     "output_type": "execute_result"
    }
   ],
   "source": [
    "np.argmin(sample_array)"
   ]
  },
  {
   "cell_type": "code",
   "execution_count": 60,
   "id": "f82a3a41",
   "metadata": {},
   "outputs": [
    {
     "data": {
      "text/plain": [
       "array([  1,   4,   9,  16,  25,  36,  49,  64,  81, 100, 121, 144, 169,\n",
       "       196, 225, 256, 289, 324, 361, 400, 441, 484, 529, 576, 625, 676,\n",
       "       729, 784, 841, 900], dtype=int32)"
      ]
     },
     "execution_count": 60,
     "metadata": {},
     "output_type": "execute_result"
    }
   ],
   "source": [
    "np.square(sample_array)"
   ]
  },
  {
   "cell_type": "code",
   "execution_count": 61,
   "id": "351922ea",
   "metadata": {},
   "outputs": [
    {
     "data": {
      "text/plain": [
       "8.65544144839919"
      ]
     },
     "execution_count": 61,
     "metadata": {},
     "output_type": "execute_result"
    }
   ],
   "source": [
    "np.std(sample_array)"
   ]
  },
  {
   "cell_type": "code",
   "execution_count": 62,
   "id": "59d1da66",
   "metadata": {},
   "outputs": [
    {
     "data": {
      "text/plain": [
       "74.91666666666667"
      ]
     },
     "execution_count": 62,
     "metadata": {},
     "output_type": "execute_result"
    }
   ],
   "source": [
    "np.var(sample_array)"
   ]
  },
  {
   "cell_type": "code",
   "execution_count": 63,
   "id": "ab5d6187",
   "metadata": {},
   "outputs": [
    {
     "data": {
      "text/plain": [
       "15.5"
      ]
     },
     "execution_count": 63,
     "metadata": {},
     "output_type": "execute_result"
    }
   ],
   "source": [
    "np.mean(sample_array)"
   ]
  },
  {
   "cell_type": "code",
   "execution_count": 64,
   "id": "1942cd31",
   "metadata": {},
   "outputs": [
    {
     "data": {
      "text/plain": [
       "array([[ 0.95505492, -1.29398926,  0.96666651, -1.80683257],\n",
       "       [ 1.49177505, -0.26742761,  0.33333445, -0.1504181 ],\n",
       "       [-0.04279202, -0.69018327,  0.16949951,  1.1474676 ]])"
      ]
     },
     "execution_count": 64,
     "metadata": {},
     "output_type": "execute_result"
    }
   ],
   "source": [
    "array=np.random.randn(3,4)  ### Normal distribution\n",
    "array"
   ]
  },
  {
   "cell_type": "code",
   "execution_count": 65,
   "id": "65876208",
   "metadata": {},
   "outputs": [
    {
     "data": {
      "text/plain": [
       "array([[ 0.955, -1.294,  0.967, -1.807],\n",
       "       [ 1.492, -0.267,  0.333, -0.15 ],\n",
       "       [-0.043, -0.69 ,  0.169,  1.147]])"
      ]
     },
     "execution_count": 65,
     "metadata": {},
     "output_type": "execute_result"
    }
   ],
   "source": [
    "np.round(array,decimals=3)"
   ]
  },
  {
   "cell_type": "code",
   "execution_count": 66,
   "id": "c5cac5e8",
   "metadata": {},
   "outputs": [
    {
     "data": {
      "text/plain": [
       "array(['Cricket', 'Football', 'Golf'], dtype='<U8')"
      ]
     },
     "execution_count": 66,
     "metadata": {},
     "output_type": "execute_result"
    }
   ],
   "source": [
    "sports=np.array(['Golf','Cricket','Football','Cricket'])\n",
    "np.unique(sports)"
   ]
  },
  {
   "cell_type": "markdown",
   "id": "da5d659f",
   "metadata": {},
   "source": [
    "### Assessment ###\n",
    "#### 1) Create a null vector of size 10\n",
    "#### 2)Create a null vector of size 10 but the 5th value should be 1\n",
    "#### 3)Create a vector with vaues ranging from 10 to 65\n",
    "#### 4) Reverse the above vector\n",
    "#### m5)Create a 3x3 matrix with values ranging from 0 to 8 "
   ]
  },
  {
   "cell_type": "code",
   "execution_count": 67,
   "id": "a717df61",
   "metadata": {},
   "outputs": [
    {
     "data": {
      "text/plain": [
       "array([0., 0., 0., 0., 0., 0., 0., 0., 0., 0.])"
      ]
     },
     "execution_count": 67,
     "metadata": {},
     "output_type": "execute_result"
    }
   ],
   "source": [
    "#1\n",
    "vector = np.zeros(10)\n",
    "vector"
   ]
  },
  {
   "cell_type": "code",
   "execution_count": 68,
   "id": "07de96e0",
   "metadata": {},
   "outputs": [
    {
     "data": {
      "text/plain": [
       "array([0., 0., 0., 0., 1., 0., 0., 0., 0., 0.])"
      ]
     },
     "execution_count": 68,
     "metadata": {},
     "output_type": "execute_result"
    }
   ],
   "source": [
    "#2\n",
    "vector[4]=1\n",
    "vector"
   ]
  },
  {
   "cell_type": "code",
   "execution_count": 70,
   "id": "5b3be201",
   "metadata": {},
   "outputs": [
    {
     "data": {
      "text/plain": [
       "array([10, 11, 12, 13, 14, 15, 16, 17, 18, 19, 20, 21, 22, 23, 24, 25, 26,\n",
       "       27, 28, 29, 30, 31, 32, 33, 34, 35, 36, 37, 38, 39, 40, 41, 42, 43,\n",
       "       44, 45, 46, 47, 48, 49, 50, 51, 52, 53, 54, 55, 56, 57, 58, 59, 60,\n",
       "       61, 62, 63, 64])"
      ]
     },
     "execution_count": 70,
     "metadata": {},
     "output_type": "execute_result"
    }
   ],
   "source": [
    "#3\n",
    "v = np.arange(10,65)\n",
    "v"
   ]
  },
  {
   "cell_type": "code",
   "execution_count": 73,
   "id": "9381ced0",
   "metadata": {
    "scrolled": true
   },
   "outputs": [
    {
     "ename": "AttributeError",
     "evalue": "'numpy.ndarray' object has no attribute 'flip'",
     "output_type": "error",
     "traceback": [
      "\u001b[1;31m---------------------------------------------------------------------------\u001b[0m",
      "\u001b[1;31mAttributeError\u001b[0m                            Traceback (most recent call last)",
      "\u001b[1;32m<ipython-input-73-be8410e5bb85>\u001b[0m in \u001b[0;36m<module>\u001b[1;34m\u001b[0m\n\u001b[1;32m----> 1\u001b[1;33m \u001b[0mv\u001b[0m\u001b[1;33m.\u001b[0m\u001b[0mflip\u001b[0m\u001b[1;33m(\u001b[0m\u001b[1;33m)\u001b[0m\u001b[1;33m\u001b[0m\u001b[1;33m\u001b[0m\u001b[0m\n\u001b[0m\u001b[0;32m      2\u001b[0m \u001b[0mv\u001b[0m\u001b[1;33m\u001b[0m\u001b[1;33m\u001b[0m\u001b[0m\n",
      "\u001b[1;31mAttributeError\u001b[0m: 'numpy.ndarray' object has no attribute 'flip'"
     ]
    }
   ],
   "source": [
    "#4\n",
    "v.flip()\n",
    "v"
   ]
  },
  {
   "cell_type": "code",
   "execution_count": 76,
   "id": "4378e560",
   "metadata": {},
   "outputs": [
    {
     "data": {
      "text/plain": [
       "array([[0, 1, 2],\n",
       "       [3, 4, 5],\n",
       "       [6, 7, 8]])"
      ]
     },
     "execution_count": 76,
     "metadata": {},
     "output_type": "execute_result"
    }
   ],
   "source": [
    "#5\n",
    "x =  np.arange(0,9).reshape(3,3)\n",
    "x"
   ]
  },
  {
   "cell_type": "code",
   "execution_count": null,
   "id": "606270e3",
   "metadata": {},
   "outputs": [],
   "source": []
  }
 ],
 "metadata": {
  "kernelspec": {
   "display_name": "Python 3",
   "language": "python",
   "name": "python3"
  },
  "language_info": {
   "codemirror_mode": {
    "name": "ipython",
    "version": 3
   },
   "file_extension": ".py",
   "mimetype": "text/x-python",
   "name": "python",
   "nbconvert_exporter": "python",
   "pygments_lexer": "ipython3",
   "version": "3.8.8"
  }
 },
 "nbformat": 4,
 "nbformat_minor": 5
}
